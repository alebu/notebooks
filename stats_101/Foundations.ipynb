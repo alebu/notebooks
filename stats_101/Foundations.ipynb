{
 "cells": [
  {
   "cell_type": "code",
   "execution_count": 1,
   "metadata": {},
   "outputs": [],
   "source": [
    "import numpy as np\n",
    "import matplotlib.pyplot as plt\n",
    "from cycler import cycler\n",
    "from scipy.stats import norm\n",
    "palette = ['#001A72', '#FC4C02', '#41B6E6', '#B7C01B', '#00D4C5', '#00A499', '#DBE442']\n",
    "bg = '#EBF6F3'\n",
    "np.random.seed(42)\n",
    "plt.rcParams.update({'axes.facecolor':bg})\n",
    "plt.rcParams['axes.prop_cycle'] = cycler(color=palette)\n",
    "plt.rcParams['figure.figsize'] = (10, 3)\n",
    "plt.rcParams['axes.grid'] = True"
   ]
  },
  {
   "cell_type": "markdown",
   "metadata": {},
   "source": [
    "# Statistical Inference\n",
    "\n",
    "Probability theory and Statistical Inference are complementary tools that we use to study aleatory and noisy behaviours.\n",
    "\n",
    "In Probability Theory, we use the rules of probability to build a model of a object we want to study, and then we use this model to deduce what is going to happen when we run an experiment on it. This is a deductive process. \n",
    "\n",
    "In statistical inference, on the other hand, we observe the results of an experiment ran on the object we are studying and, after making some assumptions on its behaviour, we want to use them to learn something about it.\n",
    "\n",
    "As an example, consider a coin as a the object of study. We assume that the probability of landing head when tossed is 70% (the coin is rigged). Then, using probability theory, we can deduce other things: for example that the probability of landing tails is 30%, that the probability of landing two heads in a row in 14%, and so on. This is a typical example of the deductive process conducted using probability theory.\n",
    "\n",
    "On the other hand, suppose you are given a coin that you don't know and you want to know whether it's rigged. You might assume a few things about it: for example that the probability of getting head if you toss it doesn't change over time; that the result of each toss does not influence the others, and so on. Then you conduct an experiment, and toss it 100 times, getting 35 heads. What do you conclude? Is the coin rigged? This is the kind of question that statistical inference can help you answer.\n"
   ]
  },
  {
   "cell_type": "markdown",
   "metadata": {},
   "source": [
    "## Theoretical Foundations\n",
    "\n",
    "### Experiments, Models and Random Variables\n",
    "\n",
    "Usually we model the data coming from an experiment as a sequence of independent and identically distributed (from now on, i.i.d.) Random Variables, $X_1, X_2,  ..., X_n$. We will make some assumptions about the properties of these Random Variables, and usually try to learn something about them, usually by calculating a *statistic* $t = T(X_1, X_2,  ..., X_n)$, a function of the data that summarises some quantity of information useful for us. Note that the statistic is itself a random variable.\n",
    "\n",
    "An example of a statistic is the sample mean:\n",
    "\n",
    "$$\n",
    "    \\bar{X} = \\frac{X_1 + X_2 + ... + X_n}{n}\n",
    "$$\n",
    "\n",
    "It turns out this specific statistic has a very nice asymptotic property:\n",
    "\n",
    "### The Strong Law of Large Numbers\n",
    "\n",
    "Let $(X_i)_{i \\in \\mathbb{N}}$ be a sequence of i.i.d. Random Variables. Suppose that $\\mathbb{E}[X_1] = \\mu$ and $\\mathbb{V}[X_1] = \\sigma < \\infty$. Then, with probability 1, $\\bar{X} \\rightarrow \\mu$ as $n \\rightarrow \\infty$.\n",
    "\n",
    "What this tells us is that if we take a sample that is big enough, we can use our statistic - the sample mean - to approximate (**estimate**) a parameter of our model - the expected vallue. Notice how by carefully modelling our data, even by just using this simple statistic we can answer a variety of questions, including the one we considered in the introduction: it is sufficient to consider a random variable that takes the value 1 if the result of the coin is head, and 0 if it is tail. Then we set:\n",
    "\n",
    "$$\n",
    "    \\mathbb{P}[X = 1] = p\n",
    "$$\n",
    "\n",
    "$$\n",
    "    \\mathbb{P}[X = 0] = 1 - p\n",
    "$$\n",
    "\n",
    "and we have:\n",
    "\n",
    "$$\n",
    "    \\mathbb{E}[X] = p\n",
    "$$\n",
    "\n",
    "and we are able to estimate the probability of the coin of landing on head using the sample mean. The Law of the Large numbers ensures us that with a big enough sample, we'll get to the right answer. Thanks to Python, we don't have to trust this. We can actually try it out. Using NumPy Random library, we can simulate a sample of 300 coin tosses from a fair coin:"
   ]
  },
  {
   "cell_type": "code",
   "execution_count": 9,
   "metadata": {},
   "outputs": [],
   "source": [
    "n = 300\n",
    "possible_results = [0, 1]\n",
    "mu = np.mean(possible_results)\n",
    "sigma = np.sqrt(np.square(possible_results - mu).mean())\n",
    "\n",
    "X_i = np.random.choice(possible_results, size = n)"
   ]
  },
  {
   "cell_type": "markdown",
   "metadata": {},
   "source": [
    "We can then look at how the sample mean of the sample changes while n grows:"
   ]
  },
  {
   "cell_type": "code",
   "execution_count": 10,
   "metadata": {},
   "outputs": [
    {
     "data": {
      "image/png": "[encoded data removed]",
      "text/plain": [
       "<Figure size 1000x300 with 1 Axes>"
      ]
     },
     "metadata": {},
     "output_type": "display_data"
    }
   ],
   "source": [
    "plt.plot(X_i.cumsum()/np.arange(1, n + 1), label = r'$\\bar{X}(n)$')\n",
    "plt.axhline(np.mean(possible_results), color = palette[1], label = r'$\\mu$');\n",
    "plt.legend();\n",
    "plt.xlabel(\"n\");"
   ]
  },
  {
   "cell_type": "markdown",
   "metadata": {},
   "source": [
    "In the plot, we see exactly the kind of behaviour described by the SLLN: as n grows, the sample mean taken from the i.i.d. Random Variables converges to the expected value $\\mu$. This is extremely important, as notice what we are saying: if we are given a sample that is big enough, we are guaranteed to learn something about the Random Variables we are studying, i.e., their expected value. As we are using Random Variables to model the world, this means we can learn something about the world through this procedure. This theorem lies at the centre of Statistical Inference."
   ]
  },
  {
   "cell_type": "markdown",
   "metadata": {},
   "source": [
    "When a statistic is used this way (we use it to estimate a parameter of our model), we call it an **Estimator**. By itself, the estimator only gives us a **Point Estimate** of the quantity we are trying to study, that is, our best guess about it. If the estimator is well built, it'll have some nice properties that ensure that our guess will really be the best guess given the information we have. However, it does not say anything about how certain or uncertain we are about the guess. \n",
    "\n",
    "In fact, correctly quantifying and communicating uncertainty is one of the main concerns of statistical inference. Even intuitively, we want to be able to discern cases where we tossed a coin 10 times and got 4 heads from cases where we tossed it 10000 times and got 4000 heads. While the point estimates of p for these two cases would be the same, we intuitively understand that they would lead to drastically different conclusions about wheter the coin is rigged or not. Hence, we need a way of encoding this uncertainty and manipulating it in our calculations.\n",
    "\n",
    "In order to do that, we need some basic results about the asymptotic behaviour of random variables. The first theorem will tell us that the sample mean, when the sample is very big, converges to (defining what this means exactly gets very complicated very quickly; read it as \"gets very close to\") the expected value of the Random Variable. The second results will give us more details about the convergences, telling us how large are the fluctuations around the limit while the sample grows.\n",
    "\n",
    "### The Strong Law of Large Numbers (move this up)\n",
    "\n",
    "Let $(X_i)_{i \\in \\mathbb{N}}$ be a sequence of i.i.d. Random Variables. Suppose that $\\mathbb{E}[X_1] = \\mu$ and $\\mathbb{V}[X_1] = \\sigma < \\infty$. Then, with probability 1, $\\bar{X} \\rightarrow \\mu$ as $n \\rightarrow \\infty$.\n",
    "\n",
    "\n",
    "Thanks to Python, we don't have to trust this. We can actually try it out. Let's see if this holds. Using NumPy Random library, we can model a random variable $X$ with the following behaviour:\n",
    "\n",
    "$$\n",
    "\\mathbb{P}[X = 1] = 0.5 \\\\\n",
    "$$\n",
    "$$\n",
    "\\mathbb{P}[X = -2] = 0.5\n",
    "$$\n",
    "\n",
    "We can easily see that:\n",
    "\n",
    "$$\n",
    "\\mu = \\mathbb{E}[X] = -.0.5  \\\\\n",
    "$$\n",
    "$$\n",
    "\\sigma = \\mathbb{V}[X] = \\mathbb{E}[X^2] - \\mathbb{E}[X]^2 = 2.5 - .25 = 2.25\n",
    "$$"
   ]
  },
  {
   "cell_type": "markdown",
   "metadata": {},
   "source": [
    "\n",
    "\n",
    "However, the SLLN only tells us that we'll learn something as n becomes very, very large. It does not tell us how large it needs to be to get to a certain precision in our estimates. For that, we need another theorem.\n",
    "\n",
    "### Central Limit Theorem\n",
    "\n",
    "Using the setting from the theorem above, we also have:\n",
    "\n",
    "$$\n",
    "    X_1 + X_2 + ... + X_n \\sim \\mathcal{N}(n\\mu, n\\sigma^2)\n",
    "$$\n",
    "\n",
    "as $n \\rightarrow \\infty$. Technically, what we have in this theorem in a convergence in distribution. Without going into too much technical details, what this means is that with a large enough n, we can make approximate probability statements about the sum of the Random Variables.\n",
    "\n",
    "Before looking at how this theorem is useful for statistical inference, we can notice that even just this first results gives us a lot of insight on one possible way normal distributions can arise. Whenever we have an outcome that is the result of a lot of individual random contributions being summed up, we tend to get a Normal distribution as a result. Let's check this result with Python. What we can do is:\n",
    "* simulate a bunch (N = 1000) of samples of length n = 300, from the same random variables\n",
    "* for each sample, calculate the sum\n",
    "* analyse the histogram of the sums, and compare it to the Normal Distribution given by the theorem"
   ]
  },
  {
   "cell_type": "code",
   "execution_count": 4,
   "metadata": {},
   "outputs": [],
   "source": [
    "N = 1000\n",
    "xs = np.random.choice(possible_results, size = (N, n))"
   ]
  },
  {
   "cell_type": "code",
   "execution_count": null,
   "metadata": {},
   "outputs": [],
   "source": [
    "xs_sum = xs.cumsum(axis = 1)\n",
    "sum_mean = n*mu\n",
    "sum_sigma = np.sqrt(n)*sigma\n",
    "rng = np.arange(sum_mean - 4*sum_sigma, sum_mean + 4*sum_sigma)\n",
    "plt.plot(rng, norm.pdf(rng,sum_mean,sum_sigma), label = r'$\\mathcal{N}(n\\mu, \\sigma\\sqrt{n})$')\n",
    "plt.hist(xs_sum[:, -1], bins = 50, density = True, label = r'$\\sum{X_i}$' + \" Histogram\");\n",
    "plt.legend()\n",
    "plt.ylabel(\"Density\");"
   ]
  },
  {
   "cell_type": "markdown",
   "metadata": {},
   "source": [
    "We see that the histogram matches the theoretical distribution that we get from the theorem.\n",
    "\n",
    "If we go back to our definition of the sample mean, we see that it involves a sum. Can we then use the CLT to infer something about the behaviour of the sample mean as n gets large? We can. By using some basic properties of Random Variables, we get:\n",
    "\n",
    "$$\n",
    "    \\frac{\\bar{X} - \\mu}{\\frac{\\sigma}{\\sqrt n}} \\sim \\mathcal{N}(0, 1)\n",
    "$$\n",
    "\n",
    "In fact, this one, and not the previous one, is the precise statement of the CLT. We can then use this to understand how we can tune our sampling to get an approximation that matches our needs."
   ]
  },
  {
   "cell_type": "code",
   "execution_count": 6,
   "metadata": {},
   "outputs": [],
   "source": [
    "xs_means = xs_sum/(np.arange(1, n + 1).reshape(1, n))"
   ]
  },
  {
   "cell_type": "markdown",
   "metadata": {},
   "source": [
    "We can then use the theorem to trace the theoretical distributional trends of the convergence as n grows. We can check this, computationally, by considering many samples (N = 1000) and looking at how their sample mean changes as n grows:"
   ]
  },
  {
   "cell_type": "code",
   "execution_count": null,
   "metadata": {},
   "outputs": [],
   "source": [
    "_, ax = plt.subplots()\n",
    "for i in range(N):\n",
    "    plt.plot(xs_means[i, :], color = palette[0], alpha = 0.01)\n",
    "plt.plot(mu + 1.96*sigma/np.sqrt(np.arange(1, n + 1)), color = palette[1], label = r'$\\mu \\pm 1.96\\frac{\\sigma}{\\sqrt{n}}$');\n",
    "plt.plot(mu - 1.96*sigma/np.sqrt(np.arange(1, n + 1)), color = palette[1]);\n",
    "plt.legend();\n",
    "plt.xlabel(\"n\");"
   ]
  },
  {
   "cell_type": "markdown",
   "metadata": {},
   "source": [
    "Finally, we can see the distribution of the sample means for n = 300:"
   ]
  },
  {
   "cell_type": "code",
   "execution_count": null,
   "metadata": {},
   "outputs": [],
   "source": [
    "mean_mean = mu\n",
    "mean_sigma = sigma/np.sqrt(n)\n",
    "rng = np.arange(mean_mean - 4*mean_sigma, mean_mean + 4*mean_sigma, 0.01)\n",
    "\n",
    "plt.plot(rng, norm.pdf(rng,mean_mean,mean_sigma), label = r'$\\mathcal{N}(\\mu, \\frac{\\sigma}{\\sqrt{n}})$')\n",
    "plt.hist(xs_means[:, -1], bins = 50, density = True, label = r'$\\bar{X}(n)$' + \" Histogram\");\n",
    "plt.legend();\n",
    "plt.ylabel(\"Density\");"
   ]
  },
  {
   "cell_type": "markdown",
   "metadata": {},
   "source": [
    "Let's reflect on what we achieved:\n",
    "\n",
    "* We discovered that if we have a large enough sample of i.i.d. random variables, the sample mean will be close enough to the expectation of the random variables.\n",
    "* We also discovered what \"close enough\" means: the distribution of the sample means is a Normal, centered around the mean mu, and with variance inversely proportional to the square root of n.\n",
    "\n",
    "The question, now, is how do we use these results for Statistical Inference. The typical situation we found ourselves in is to have a single sample (in our setting, N = 1), and from that we want to learn something about the data generating process."
   ]
  }
 ],
 "metadata": {
  "kernelspec": {
   "display_name": "notebooks-eYFLqv65",
   "language": "python",
   "name": "python3"
  },
  "language_info": {
   "codemirror_mode": {
    "name": "ipython",
    "version": 3
   },
   "file_extension": ".py",
   "mimetype": "text/x-python",
   "name": "python",
   "nbconvert_exporter": "python",
   "pygments_lexer": "ipython3",
   "version": "3.8.20"
  }
 },
 "nbformat": 4,
 "nbformat_minor": 2
}
